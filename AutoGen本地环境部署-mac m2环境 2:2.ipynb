{
 "cells": [
  {
   "cell_type": "markdown",
   "metadata": {},
   "source": [
    "# AutoGen本地环境搭建 - mac m2环境（1/2）\n",
    "\n",
    "## 1、背景\n",
    "\n",
    "微软开源了一个AutoGen框架，专为大语言模型快速开发而设计。然而，对于没有OpenAI API-KEY的用户，尤其是白嫖党来说，存在一些挑战。考虑到GitHub上有许多开源的大模型，因此在本地部署这些大模型成为一个有趣的想法，以便进行AutoGen的开发。有关AutoGen的更多信息，请访问官网：[AutoGen](https://microsoft.github.io/autogen/)\n",
    "\n",
    "## 2、需要解决的问题\n",
    "\n",
    "1. 缺乏GPU环境：听说苹果的m2芯片GPU也还行，可以尝试在笔记本上部署大模型。\n",
    "2. 非专业人士如何快速部署大模型：对于不了解量化等专业知识的用户，希望能够通过简单的操作或双击即可在本地部署大模型。令人幸运的是，GitHub上已经有相关的工具可供使用。\n",
    "3. 牛头能否对接马嘴：希望通过其他软件部署的大模型能够提供API接口，并且该接口的格式是否与OpenAI的一致。GitHub上同样存在相关的工具可供参考。\n",
    "\n",
    "## 3、准备工作\n",
    "\n",
    "1. Autogen，Autogen框架。[AutoGen官网](https://microsoft.github.io/autogen/)\n",
    "2. ollama，用于部署本地大模型，计划部署mistral-7b。[ollama官网](https://ollama.ai/)\n",
    "3. litellm，用于大模型协议转换，将其转换为OpenAI标准格式的API。[litellm官网](https://docs.litellm.ai/docs/)\n",
    "\n",
    "\n",
    "## 4、实践思路\n",
    "1. 先尝试用ollama部署大模型，测试能否跑起来\n",
    "2. 然后启动litellm进行协议转换\n",
    "3. 使用AutoGen Demo进行系统功能测试，查看系统是否正常工作\n",
    "\n",
    "## 5、其他事项"
   ]
  }
 ],
 "metadata": {
  "language_info": {
   "name": "python"
  }
 },
 "nbformat": 4,
 "nbformat_minor": 2
}
